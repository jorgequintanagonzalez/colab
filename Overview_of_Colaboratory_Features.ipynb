{
  "nbformat": 4,
  "nbformat_minor": 0,
  "metadata": {
    "colab": {
      "name": "Overview of Colaboratory Features",
      "version": "0.3.2",
      "provenance": [],
      "collapsed_sections": [],
      "toc_visible": true,
      "include_colab_link": true
    },
    "kernelspec": {
      "display_name": "Python 3",
      "name": "python3"
    }
  },
  "cells": [
    {
      "cell_type": "markdown",
      "metadata": {
        "id": "view-in-github",
        "colab_type": "text"
      },
      "source": [
        "[View in Colaboratory](https://colab.research.google.com/github/jorgequintanagonzalez/colab/blob/master/Overview_of_Colaboratory_Features.ipynb)"
      ]
    },
    {
      "metadata": {
        "id": "x9SlcdEv4EUt",
        "colab_type": "text"
      },
      "cell_type": "markdown",
      "source": [
        "# Prueba de sección"
      ]
    },
    {
      "metadata": {
        "id": "VtNPbsGy4JTc",
        "colab_type": "text"
      },
      "cell_type": "markdown",
      "source": [
        "Texto normal"
      ]
    }
  ]
}